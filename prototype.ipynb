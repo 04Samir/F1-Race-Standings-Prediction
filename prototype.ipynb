{
 "cells": [
  {
   "cell_type": "markdown",
   "metadata": {},
   "source": [
    "# ***Prototype - Formula 1 Race Standings Prediction***"
   ]
  },
  {
   "cell_type": "markdown",
   "metadata": {},
   "source": [
    "## **1. Introduction**"
   ]
  },
  {
   "cell_type": "markdown",
   "metadata": {},
   "source": [
    "### 1.1. Context\n",
    "\n",
    "This Jupyter Notebook is a prototype for my dissertation, focusing on the development of a system to predict Formula 1 race standings in real-time. The ultimate goal of the project is to build a robust and dynamic prediction model that utilises diverse data sources and integrates seamlessly into a user-friendly web application.\n",
    "\n",
    "In this prototype, the emphasis is on implementing a basic Long Short-Term Memory (LSTM) model to predict the standings for the final race of the 2024 Formula 1 season. By working with sequential data from the 2024 season, this prototype establishes a foundation for processing and modelling Formula 1 data.\n"
   ]
  },
  {
   "cell_type": "markdown",
   "metadata": {},
   "source": [
    "### 1.2. Objectives\n",
    "\n",
    "- Develop a proof-of-concept LSTM model to predict race standings using sequential data.\n",
    "- Evaluate the model’s performance on historical 2024 race data.\n",
    "- Establish a baseline workflow for preprocessing and modelling Formula 1 race data."
   ]
  },
  {
   "cell_type": "markdown",
   "metadata": {},
   "source": [
    "### 1.3 Dataset\n",
    "\n",
    "The dataset for this prototype includes comprehensive information about the 2024 Formula 1 season. It is organised into multiple structured files, each representing a key aspect of the races:\n",
    "\n",
    "- **Circuit Data**: Information about race circuits, including locations and dates.  \n",
    "- **Constructor Data**: Details about the teams participating in the season.  \n",
    "- **Driver Data**: Profiles of the drivers, including their affiliations and attributes.  \n",
    "- **Lap Data**: Lap-by-lap performance metrics for drivers.  \n",
    "- **Pit stop Data**: Insights into pit stop events, including timing and duration.  \n",
    "- **Qualifying Data**: Qualifying session results, such as positions and times.  \n",
    "- **Race Results**: Final standings, points, and performance details for each race.\n",
    "\n",
    "This data is fetched via the [Ergast Developer API](https://ergast.com/mrd/) and processed to create sequential time-series inputs for training the `LSTM` model."
   ]
  },
  {
   "cell_type": "markdown",
   "metadata": {},
   "source": [
    "### 1.4. Approach\n",
    "\n",
    "The prototype follows a structured approach to develop and evaluate the prediction model:\n",
    "\n",
    "1. **Data Fetching & Parsing**:  \n",
    "   Data is fetched from the Ergast Developer API and organised into structured CSV files. This includes information about circuits, drivers, constructors, laps, pit stops, qualifying sessions, and race results.\n",
    "\n",
    "2. **Data Pre-Processing**:  \n",
    "   The data is cleaned, merged, and transformed into sequential time-series inputs suitable for training the Long Short-Term Memory (LSTM) model. Features are normalised, and missing values are handled appropriately.\n",
    "\n",
    "3. **Model Building**:  \n",
    "   An LSTM model is implemented using PyTorch to handle the time-series data. The model is designed to predict race standings based on sequential data from previous races.\n",
    "\n",
    "4. **Training & Validation**:  \n",
    "   The model is trained on historical data from the 2024 season, using a portion of the dataset for validation. Performance is evaluated using metrics such as Mean Squared Error (MSE).\n",
    "\n",
    "5. **Prediction & Evaluation**:  \n",
    "   The trained model is used to predict the standings for the final race of the 2024 season. Predictions are compared against actual results to assess the model's performance.\n",
    "\n",
    "6. **Visualisation**:  \n",
    "   Results and predictions are visualised to provide insights into the model's accuracy and areas for improvement."
   ]
  },
  {
   "cell_type": "markdown",
   "metadata": {},
   "source": [
    "### 1.5. Libraries & Constants\n",
    "\n",
    "First, we import the necessary libraries and define constants that will be used throughout the prototype."
   ]
  },
  {
   "cell_type": "code",
   "execution_count": 1,
   "metadata": {},
   "outputs": [
    {
     "name": "stdout",
     "output_type": "stream",
     "text": [
      "Project is Initialised!\n"
     ]
    }
   ],
   "source": [
    "# General\n",
    "import json\n",
    "import matplotlib.pyplot as plt\n",
    "import numpy as np\n",
    "import os\n",
    "import pandas as pd\n",
    "import pathlib\n",
    "import requests\n",
    "import time\n",
    "from datetime import timedelta\n",
    "from tabulate import tabulate\n",
    "\n",
    "# ML\n",
    "import torch\n",
    "import torch.nn as nn\n",
    "from sklearn.model_selection import train_test_split\n",
    "from sklearn.preprocessing import MinMaxScaler\n",
    "from torch.utils.data import DataLoader, TensorDataset\n",
    "\n",
    "\n",
    "# Constants\n",
    "API_URL = \"https://api.jolpi.ca/ergast/f1\"\n",
    "\n",
    "DATA_FOLDER = pathlib.Path(\"data\")\n",
    "BIN_FOLDER = DATA_FOLDER / \"bin\"\n",
    "TRAIN_FOLDER = DATA_FOLDER / \"meta\"\n",
    "TESTS_FOLDER = DATA_FOLDER / \"tests\"\n",
    "\n",
    "OUT_FOLDER = pathlib.Path(\"out\")\n",
    "MODEL_PATH = OUT_FOLDER / \"model.pth\"\n",
    "\n",
    "\n",
    "# Functions\n",
    "def write_to_file(data: dict, filename: str) -> None:\n",
    "    with open(filename, \"w\") as f:\n",
    "        json.dump(data, f, indent=4)\n",
    "\n",
    "def read_from_file(file_path: str) -> dict:\n",
    "    with open(file_path, \"r\") as file:\n",
    "        return json.load(file)\n",
    "\n",
    "\n",
    "print(\"Project is Initialised!\")"
   ]
  },
  {
   "cell_type": "markdown",
   "metadata": {},
   "source": [
    "## 2. **Fetching & Parsing Data**\n"
   ]
  },
  {
   "cell_type": "markdown",
   "metadata": {},
   "source": [
    "### 2.1. Fetching Data\n",
    "\n",
    "This section focuses on retrieving data for the 2024 Formula 1 season using the [Ergast Developer API](https://ergast.com/mrd/). Data is fetched programmatically and stored locally in a structured manner (`data/bin`) for subsequent preprocessing and analysis."
   ]
  },
  {
   "cell_type": "code",
   "execution_count": 2,
   "metadata": {},
   "outputs": [
    {
     "name": "stdout",
     "output_type": "stream",
     "text": [
      "Data Already Fetched!\n"
     ]
    }
   ],
   "source": [
    "def fetch(session: requests.Session, *args, **kwargs) -> list:\n",
    "    params = kwargs.pop('params', {})\n",
    "    params['limit'] = 100\n",
    "    params['offset'] = 0\n",
    "\n",
    "    data = []\n",
    "    while True:\n",
    "        kwargs['params'] = params\n",
    "        response = session.get(*args, **kwargs)\n",
    "        if response.status_code == 200:\n",
    "            result = response.json()\n",
    "\n",
    "            if \"RaceTable\" in result['MRData']:\n",
    "                data.extend(result['MRData']['RaceTable']['Races'])\n",
    "            elif \"DriverTable\" in result['MRData']:\n",
    "                data.extend(result['MRData']['DriverTable']['Drivers'])\n",
    "            else:\n",
    "                break\n",
    "\n",
    "            total = int(result['MRData']['total'])\n",
    "            params['offset'] += params['limit']\n",
    "            if params['offset'] >= total:\n",
    "                break\n",
    "        elif response.status_code == 429:\n",
    "            time.sleep(5)\n",
    "        else:\n",
    "            raise Exception(f\"Failed to Fetch Data [{response.status_code}]: {response.text}\")\n",
    "\n",
    "    return data\n",
    "\n",
    "\n",
    "def fetch_drivers(session: requests.Session) -> dict:\n",
    "    data = fetch(session, f\"{API_URL}/2024/drivers\")\n",
    "    return {'drivers': data}\n",
    "\n",
    "\n",
    "def fetch_qualifying(session: requests.Session) -> dict:\n",
    "    data = fetch(session, f\"{API_URL}/2024/qualifying\")\n",
    "    return {'qualifying': data}\n",
    "\n",
    "\n",
    "def fetch_results(session: requests.Session) -> dict:\n",
    "    data = fetch(session, f\"{API_URL}/2024/results\")\n",
    "    return {'results': data}\n",
    "\n",
    "\n",
    "def fetch_laps(session: requests.Session, race: int) -> dict:\n",
    "    data = fetch(session, f\"{API_URL}/2024/{race}/laps\")\n",
    "    return {'laps': data}\n",
    "\n",
    "\n",
    "def fetch_pitstops(session: requests.Session, race: int) -> dict:\n",
    "    data = fetch(session, f\"{API_URL}/2024/{race}/pitstops\")\n",
    "    return {'pitStops': data}\n",
    "\n",
    "\n",
    "if not os.path.exists(BIN_FOLDER):\n",
    "    print(\"Fetching Data . . .\")\n",
    "    os.makedirs(BIN_FOLDER)\n",
    "\n",
    "    headers = {'Content-Type': 'application/json'}\n",
    "    session = requests.Session()\n",
    "    session.headers.update(headers)\n",
    "\n",
    "    drivers = fetch_drivers(session)\n",
    "    write_to_file(drivers, str(BIN_FOLDER / 'drivers.json'))\n",
    "    print(\"- Fetched Driver Data\")\n",
    "\n",
    "    results = fetch_results(session)\n",
    "    write_to_file(results, str(BIN_FOLDER / 'results.json'))\n",
    "    print(\"- Fetched Results Data\")\n",
    "\n",
    "    qualifying = fetch_qualifying(session)\n",
    "    write_to_file(qualifying, str(BIN_FOLDER / 'qualifying.json'))\n",
    "    print(\"- Fetched Qualifying Data\")\n",
    "\n",
    "    data = {}\n",
    "    for race in range(1, len(results['results'])):\n",
    "        data[race] = {}\n",
    "\n",
    "        laps = fetch_laps(session, race=race)\n",
    "        data[race].update(laps)\n",
    "\n",
    "        pitstops = fetch_pitstops(session, race=race)\n",
    "        data[race].update(pitstops)\n",
    "\n",
    "    write_to_file(data, str(BIN_FOLDER / 'laps_pitstops.json'))\n",
    "    print(\"- Fetched Laps & Pitstops Data\")\n",
    "    print(\"Data Successfully Fetched!\")\n",
    "else:\n",
    "    print(\"Data Already Fetched!\")"
   ]
  },
  {
   "cell_type": "markdown",
   "metadata": {},
   "source": [
    "### 2.2. Parsing Data\n",
    "\n",
    "The raw data fetched via the API is processed and split into structured CSV files, stored in `data/train` and `data/tests` directories. This ensures compatibility with downstream processing and modelling tasks."
   ]
  },
  {
   "cell_type": "code",
   "execution_count": 3,
   "metadata": {},
   "outputs": [
    {
     "name": "stdout",
     "output_type": "stream",
     "text": [
      "Parsing Data . . .\n",
      "Data Successfully Parsed!\n"
     ]
    }
   ],
   "source": [
    "def _clean_status(status: str) -> str:\n",
    "    if status.lower() == \"finished\":\n",
    "        return \"FINISHED\"\n",
    "    elif \"+lap\" in status.lower() or \"+ laps\" in status.lower():\n",
    "        return \"FINISHED\"\n",
    "    else:\n",
    "        return \"DNF\"\n",
    "\n",
    "\n",
    "def time_to_seconds(time_str: str) -> float:\n",
    "    if pd.isna(time_str) or time_str == 0:\n",
    "        return 0.0\n",
    "    try:\n",
    "        parts = time_str.split(\":\")\n",
    "        if len(parts) == 2:\n",
    "            minutes, seconds = parts\n",
    "            return int(minutes) * 60 + float(seconds)\n",
    "        elif len(parts) == 1:\n",
    "            return float(parts[0])\n",
    "        else:\n",
    "            return 0.0\n",
    "    except:\n",
    "        return 0.0\n",
    "    \n",
    "    \n",
    "def parse_qualifying(qualifying_data: dict) -> pd.DataFrame:\n",
    "    qualifying_results = []\n",
    "    for race in qualifying_data:\n",
    "        season = race['season']\n",
    "        round_number = race['round']\n",
    "        for result in race['QualifyingResults']:\n",
    "            qualifying_results.append({\n",
    "                'season': season,\n",
    "                'round': round_number,\n",
    "                'car_number': result['number'],\n",
    "                'position': result['position'],\n",
    "                'driver_id': result['Driver']['driverId'],\n",
    "                'constructor_id': result['Constructor']['constructorId'],\n",
    "                'q1_time': result.get('Q1', None),\n",
    "                'q2_time': result.get('Q2', None),\n",
    "                'q3_time': result.get('Q3', None),\n",
    "            })\n",
    "    return pd.DataFrame(qualifying_results)\n",
    "\n",
    "\n",
    "def parse_laps(laps_data: dict) -> pd.DataFrame:\n",
    "    laps_records = []\n",
    "    for race_id, race_details in laps_data.items():\n",
    "        for details in race_details['laps']:\n",
    "            for lap in details['Laps']:\n",
    "                lap_number = lap['number']\n",
    "                for timing in lap['Timings']:\n",
    "                    laps_records.append({\n",
    "                        'season': details['season'],\n",
    "                        'round': details['round'],\n",
    "                        'race_id': race_id,\n",
    "                        'driver_id': timing['driverId'],\n",
    "                        'lap_number': lap_number,\n",
    "                        'position': timing['position'],\n",
    "                        'time': timing['time']\n",
    "                    })\n",
    "    return pd.DataFrame(laps_records)\n",
    "\n",
    "\n",
    "def parse_pitstops(pitstop_data: dict) -> pd.DataFrame:\n",
    "    pitstop_records = []\n",
    "    for race_id, race_details in pitstop_data.items():\n",
    "        for details in race_details['pitStops']:\n",
    "            for pitstop in details['PitStops']:\n",
    "                pitstop_records.append({\n",
    "                    'season': details['season'],\n",
    "                    'round': details['round'],\n",
    "                    'race_id': race_id,\n",
    "                    'driver_id': pitstop['driverId'],\n",
    "                    'stop_number': pitstop['stop'],\n",
    "                    'lap_number': pitstop['lap'],\n",
    "                    'time': pitstop['time'],\n",
    "                    'duration': pitstop['duration']\n",
    "                })\n",
    "    return pd.DataFrame(pitstop_records)\n",
    "\n",
    "\n",
    "def parse_results(results_df: pd.DataFrame) -> pd.DataFrame:\n",
    "    results = []\n",
    "    for _, row in results_df.iterrows():\n",
    "        base_time = None\n",
    "        for result in row['Results']:\n",
    "            driver_data = {\n",
    "                'season': row['season'],\n",
    "                'round': row['round'],\n",
    "                'car_number': result['number'],\n",
    "                'position': result['position'],\n",
    "                'points': result['points'],\n",
    "                'driver_id': result['Driver']['driverId'],\n",
    "                'constructor_id': result['Constructor']['constructorId'],\n",
    "                'grid': result['grid'],\n",
    "                'laps': result['laps'],\n",
    "                'status': _clean_status(result['status']),\n",
    "                'fastest_lap': result.get('FastestLap', {}).get('Time', {}).get('time', None),\n",
    "            }\n",
    "\n",
    "            time_str = result.get('Time', {}).get('time', None)\n",
    "            if time_str:\n",
    "                if time_str.startswith(\"+\"):\n",
    "                    if base_time:\n",
    "                        base_parts = list(map(float, base_time.split(\":\")))\n",
    "                        base_seconds = (\n",
    "                            base_parts[0] * 3600 +\n",
    "                            base_parts[1] * 60 + base_parts[2]\n",
    "                            if len(base_parts) == 3 else\n",
    "                            base_parts[0] * 60 + base_parts[1]\n",
    "                            if len(base_parts) == 2 else\n",
    "                            base_parts[0]\n",
    "                        )\n",
    "\n",
    "                        add_parts = time_str[1:].split(\":\")\n",
    "                        add_seconds = float(add_parts[-1])\n",
    "                        add_minutes = int(add_parts[0]) if len(add_parts) > 1 else 0\n",
    "                        increment_seconds = add_minutes * 60 + add_seconds\n",
    "\n",
    "                        total_seconds = base_seconds + increment_seconds\n",
    "                        td = timedelta(seconds=total_seconds)\n",
    "                        driver_data['time'] = f\"{td.seconds // 3600}:{(td.seconds // 60) % 60}:{td.seconds % 60:06.3f}\"\n",
    "                    else:\n",
    "                        driver_data['time'] = time_str\n",
    "                else:\n",
    "                    driver_data['time'] = time_str\n",
    "                    base_time = time_str\n",
    "            else:\n",
    "                driver_data['time'] = None\n",
    "\n",
    "            results.append(driver_data)\n",
    "\n",
    "    df = pd.DataFrame(results)\n",
    "    return df[['season', 'round', 'car_number', 'position', 'points', 'driver_id', 'constructor_id', 'grid', 'laps', 'status', 'time', 'fastest_lap']]\n",
    "\n",
    "\n",
    "def parse_circuits(results_df: pd.DataFrame) -> pd.DataFrame:\n",
    "    circuits = []\n",
    "    for _, row in results_df.iterrows():\n",
    "        circuit_data = {\n",
    "            'season': row['season'],\n",
    "            'round': row['round'],\n",
    "            'url': row['url'],\n",
    "            'race_name': row['raceName'],\n",
    "            'circuit_id': row['Circuit.circuitId'],\n",
    "            'circuit_url': row['Circuit.url'],\n",
    "            'circuit_name': row['Circuit.circuitName'],\n",
    "            'latitude': row['Circuit.Location.lat'],\n",
    "            'longitude': row['Circuit.Location.long'],\n",
    "            'locality': row['Circuit.Location.locality'],\n",
    "            'country': row['Circuit.Location.country'],\n",
    "            'date': row['date'],\n",
    "            'time': row['time'],\n",
    "        }\n",
    "        circuits.append(circuit_data)\n",
    "    return pd.DataFrame(circuits)\n",
    "\n",
    "\n",
    "def parse_drivers(results_df: pd.DataFrame) -> pd.DataFrame:\n",
    "    drivers = []\n",
    "    for _, row in results_df.iterrows():\n",
    "        for result in row['Results']:\n",
    "            driver = result['Driver']\n",
    "            drivers.append(\n",
    "                {\n",
    "                    'season': row['season'],\n",
    "                    'driver_id': driver['driverId'],\n",
    "                    'permanent_number': driver['permanentNumber'],\n",
    "                    'code': driver['code'],\n",
    "                    'url': driver['url'],\n",
    "                    'given_name': driver['givenName'],\n",
    "                    'family_name': driver['familyName'],\n",
    "                    'date_of_birth': driver['dateOfBirth'],\n",
    "                    'nationality': driver['nationality'],\n",
    "                    'constructor_id': result['Constructor']['constructorId'],\n",
    "                }\n",
    "            )\n",
    "    return pd.DataFrame(drivers).drop_duplicates(subset=['season', 'driver_id'])\n",
    "\n",
    "\n",
    "def parse_constructors(results_df: pd.DataFrame) -> pd.DataFrame:\n",
    "    constructors = []\n",
    "    for _, row in results_df.iterrows():\n",
    "        for result in row['Results']:\n",
    "            constructor = result['Constructor']\n",
    "            constructors.append(\n",
    "                {\n",
    "                    'constructor_id': constructor['constructorId'],\n",
    "                    'url': constructor['url'],\n",
    "                    'name': constructor['name'],\n",
    "                    'nationality': constructor['nationality'],\n",
    "                }\n",
    "            )\n",
    "    return pd.DataFrame(constructors).drop_duplicates(subset=['constructor_id'])\n",
    "\n",
    "if not os.path.exists(TRAIN_FOLDER):\n",
    "    print(\"Parsing Data . . .\")\n",
    "    os.makedirs(TRAIN_FOLDER)\n",
    "    os.makedirs(TESTS_FOLDER)\n",
    "\n",
    "    results_df = pd.json_normalize(\n",
    "        read_from_file(str(BIN_FOLDER / 'results.json'))['results']\n",
    "    )\n",
    "    results_cleaned_df = parse_results(results_df)\n",
    "    results_cleaned_df['round'] = pd.to_numeric(\n",
    "        results_cleaned_df['round'], errors='coerce'\n",
    "    )\n",
    "    last_round = results_cleaned_df['round'].max()\n",
    "    results_test_df = results_cleaned_df[results_cleaned_df['round'] == last_round]\n",
    "    results_cleaned_df = results_cleaned_df[results_cleaned_df['round'] != last_round]\n",
    "    results_test_df.to_csv(\n",
    "        TESTS_FOLDER / 'results.csv',\n",
    "        index=False, sep=';', encoding='UTF-8'\n",
    "    )\n",
    "    results_cleaned_df.to_csv(\n",
    "        TRAIN_FOLDER / 'results.csv',\n",
    "        index=False, sep=';', encoding='UTF-8'\n",
    "    )\n",
    "\n",
    "    circuits_df = parse_circuits(results_df)\n",
    "    circuits_df.to_csv(\n",
    "        TRAIN_FOLDER / 'circuits.csv',\n",
    "        index=False, sep=';', encoding='UTF-8'\n",
    "    )\n",
    "\n",
    "    drivers_df = parse_drivers(results_df)\n",
    "    drivers_df.to_csv(\n",
    "        TRAIN_FOLDER / 'drivers.csv',\n",
    "        index=False, sep=';', encoding='UTF-8'\n",
    "    )\n",
    "\n",
    "    constructors_df = parse_constructors(results_df)\n",
    "    constructors_df.to_csv(\n",
    "        TRAIN_FOLDER / 'constructors.csv',\n",
    "        index=False, sep=';', encoding='UTF-8'\n",
    "    )\n",
    "\n",
    "    qualifying_df = parse_qualifying(\n",
    "        read_from_file(str(BIN_FOLDER / 'qualifying.json'))['qualifying']\n",
    "    )\n",
    "    qualifying_df['round'] = pd.to_numeric(\n",
    "        qualifying_df['round'], errors='coerce'\n",
    "    )\n",
    "    qualifying_df.to_csv(\n",
    "        TRAIN_FOLDER / 'qualifying.csv',\n",
    "        index=False, sep=';', encoding='UTF-8'\n",
    "    )\n",
    "\n",
    "    laps_pitstops_data = read_from_file(str(BIN_FOLDER / 'laps_pitstops.json'))\n",
    "\n",
    "    laps_df = parse_laps(laps_pitstops_data)\n",
    "    laps_df['round'] = pd.to_numeric(laps_df['round'], errors='coerce')\n",
    "    laps_df.to_csv(\n",
    "        TRAIN_FOLDER / 'laps.csv',\n",
    "        index=False, sep=';', encoding='UTF-8'\n",
    "    )\n",
    "\n",
    "    pitstops_df = parse_pitstops(laps_pitstops_data)\n",
    "    pitstops_df.to_csv(\n",
    "        TRAIN_FOLDER / 'pitstops.csv',\n",
    "        index=False, sep=';', encoding='UTF-8'\n",
    "    )\n",
    "\n",
    "    print(\"Data Successfully Parsed!\")\n",
    "else:\n",
    "    print(\"Data Already Parsed!\")\n",
    "\n",
    "results_train_df = pd.read_csv(TRAIN_FOLDER / \"results.csv\", sep=\";\")\n",
    "laps_train_df = pd.read_csv(TRAIN_FOLDER / \"laps.csv\", sep=\";\")\n",
    "qualifying_train_df = pd.read_csv(TRAIN_FOLDER / \"qualifying.csv\", sep=\";\")\n",
    "pitstops_train_df = pd.read_csv(TRAIN_FOLDER / \"pitstops.csv\", sep=\";\")\n",
    "drivers_train_df = pd.read_csv(TRAIN_FOLDER / \"drivers.csv\", sep=\";\")\n",
    "constructors_train_df = pd.read_csv(TRAIN_FOLDER / \"constructors.csv\", sep=\";\")\n",
    "circuits_train_df = pd.read_csv(TRAIN_FOLDER / \"circuits.csv\", sep=\";\")\n",
    "\n",
    "results_test_df = pd.read_csv(TESTS_FOLDER / \"results.csv\", sep=\";\")"
   ]
  },
  {
   "cell_type": "markdown",
   "metadata": {},
   "source": [
    "### 2.3. Visualising Raw Data\n",
    "\n",
    "To gain meaningful insights from the raw data, we visualise key metrics and trends. These visualisations help uncover patterns relevant to race outcomes and predictions.\n",
    "\n",
    "- **Driver Performance Trends:**\n",
    "  - Visualising the average qualifying position for each driver across the season reveals patterns in driver consistency and performance during qualifying sessions.\n",
    "\n",
    "- **Race Results Trends:**\n",
    "  - Analysing the average finishing position of drivers provides insights into overall race performance trends, highlighting the drivers who consistently finish in strong positions.\n",
    "\n",
    "- **Pit Stop Efficiency:**\n",
    "  - Comparing average pit stop durations between constructors reveals differences in operational efficiency, which can significantly impact race outcomes."
   ]
  },
  {
   "cell_type": "code",
   "execution_count": 19,
   "metadata": {},
   "outputs": [
    {
     "data": {
      "image/png": "[encoded data removed]",
      "text/plain": [
       "<Figure size 1500x800 with 1 Axes>"
      ]
     },
     "metadata": {},
     "output_type": "display_data"
    },
    {
     "data": {
      "image/png": "[encoded data removed]",
      "text/plain": [
       "<Figure size 1500x800 with 1 Axes>"
      ]
     },
     "metadata": {},
     "output_type": "display_data"
    },
    {
     "data": {
      "image/png": "[encoded data removed]",
      "text/plain": [
       "<Figure size 1500x800 with 1 Axes>"
      ]
     },
     "metadata": {},
     "output_type": "display_data"
    }
   ],
   "source": [
    "# Average Qualifying Position for Each Driver\n",
    "avg_qualifying = qualifying_train_df.groupby(\"driver_id\")[\"position\"].mean().sort_values()\n",
    "plt.figure(figsize=(15, 8))\n",
    "avg_qualifying.plot(kind=\"bar\", color=\"lightblue\")\n",
    "plt.title(\"Average Qualifying Position Per Driver\")\n",
    "plt.xlabel(\"Driver ID\")\n",
    "plt.ylabel(\"Average Qualifying Position\")\n",
    "plt.xticks(rotation=45)\n",
    "plt.gca().invert_yaxis()\n",
    "plt.show()\n",
    "\n",
    "# Average Finishing Position for Each Driver\n",
    "avg_finishing_position = results_train_df.groupby(\"driver_id\")[\"position\"].mean().sort_values()\n",
    "plt.figure(figsize=(15, 8))\n",
    "avg_finishing_position.plot(kind=\"bar\", color=\"green\")\n",
    "plt.title(\"Average Finishing Position Per Driver\")\n",
    "plt.xlabel(\"Driver ID\")\n",
    "plt.ylabel(\"Average Finishing Position\")\n",
    "plt.xticks(rotation=45)\n",
    "plt.gca().invert_yaxis() \n",
    "plt.show()\n",
    "\n",
    "# Average Pit-Stop Duration for Each Constructor\n",
    "pitstops_with_constructor = pitstops_train_df.merge(drivers_train_df, on=\"driver_id\", how=\"left\")\n",
    "pitstops_with_constructor[\"duration\"] = pd.to_numeric(pitstops_with_constructor[\"duration\"], errors=\"coerce\")\n",
    "avg_pit_stop = pitstops_with_constructor.groupby(\"constructor_id\")[\"duration\"].mean().sort_values()\n",
    "plt.figure(figsize=(15, 8))\n",
    "avg_pit_stop.plot(kind=\"bar\", color=\"purple\")\n",
    "plt.title(\"Average Pit Stop Duration by Constructor\")\n",
    "plt.xlabel(\"Constructor\")\n",
    "plt.ylabel(\"Duration (seconds)\")\n",
    "plt.xticks(rotation=45)\n",
    "plt.show()"
   ]
  },
  {
   "cell_type": "markdown",
   "metadata": {},
   "source": [
    "## 3. **Data Pre-Processing**"
   ]
  },
  {
   "cell_type": "markdown",
   "metadata": {},
   "source": [
    "\n",
    "### 3.1. Cleaning & Merging Data\n",
    "\n",
    "Data from the CSV files are combined to form a unified dataset in memory (`features`). Key steps include:\n",
    "- Merging datasets based on common keys such as `season`, `round`, and `driver_id`.\n",
    "- Retaining only relevant columns and renaming or dropping redundant ones.\n",
    "- Handling inconsistencies and missing values in the merged dataset."
   ]
  },
  {
   "cell_type": "code",
   "execution_count": 18,
   "metadata": {},
   "outputs": [
    {
     "name": "stdout",
     "output_type": "stream",
     "text": [
      "+--------+-------+--------------+------------+--------+----------------+------------------+------+------+----------+-------------+-------------+--------------+------------+------------------+----------+----------+----------+-----------+------------+----------+----------+-----------+-------------+----------+----------+\n",
      "| season | round | car_number_x | position_x | points |   driver_id    | constructor_id_x | grid | laps |  status  |   time_x    | fastest_lap | car_number_y | position_y | constructor_id_y | q1_time  | q2_time  | q3_time  | race_id_x | lap_number | position |  time_y  | race_id_y | stop_number |   time   | duration |\n",
      "+--------+-------+--------------+------------+--------+----------------+------------------+------+------+----------+-------------+-------------+--------------+------------+------------------+----------+----------+----------+-----------+------------+----------+----------+-----------+-------------+----------+----------+\n",
      "|  2024  |   1   |      1       |     1      |   26   | max_verstappen |     red_bull     |  1   |  57  | FINISHED | 1:31:44.742 |  1:32.608   |      1       |     1      |     red_bull     | 1:30.031 | 1:29.374 | 1:29.179 |    1.0    |    1.0     |   1.0    | 1:37.284 |    1.0    |     1.0     | 18:31:12 |  25.064  |\n",
      "|  2024  |   1   |      1       |     1      |   26   | max_verstappen |     red_bull     |  1   |  57  | FINISHED | 1:31:44.742 |  1:32.608   |      1       |     1      |     red_bull     | 1:30.031 | 1:29.374 | 1:29.179 |    1.0    |    1.0     |   1.0    | 1:37.284 |    1.0    |     2.0     | 19:03:29 |  24.209  |\n",
      "|  2024  |   1   |      1       |     1      |   26   | max_verstappen |     red_bull     |  1   |  57  | FINISHED | 1:31:44.742 |  1:32.608   |      1       |     1      |     red_bull     | 1:30.031 | 1:29.374 | 1:29.179 |    1.0    |    2.0     |   1.0    | 1:36.296 |    1.0    |     1.0     | 18:31:12 |  25.064  |\n",
      "|  2024  |   1   |      1       |     1      |   26   | max_verstappen |     red_bull     |  1   |  57  | FINISHED | 1:31:44.742 |  1:32.608   |      1       |     1      |     red_bull     | 1:30.031 | 1:29.374 | 1:29.179 |    1.0    |    2.0     |   1.0    | 1:36.296 |    1.0    |     2.0     | 19:03:29 |  24.209  |\n",
      "|  2024  |   1   |      1       |     1      |   26   | max_verstappen |     red_bull     |  1   |  57  | FINISHED | 1:31:44.742 |  1:32.608   |      1       |     1      |     red_bull     | 1:30.031 | 1:29.374 | 1:29.179 |    1.0    |    3.0     |   1.0    | 1:36.753 |    1.0    |     1.0     | 18:31:12 |  25.064  |\n",
      "+--------+-------+--------------+------------+--------+----------------+------------------+------+------+----------+-------------+-------------+--------------+------------+------------------+----------+----------+----------+-----------+------------+----------+----------+-----------+-------------+----------+----------+\n"
     ]
    }
   ],
   "source": [
    "features = results_train_df.merge(qualifying_train_df, on=[\"season\", \"round\", \"driver_id\"], how=\"left\")\n",
    "features = features.merge(laps_train_df, on=[\"season\", \"round\", \"driver_id\"], how=\"left\")\n",
    "features = features.merge(pitstops_train_df, on=[\"season\", \"round\", \"driver_id\"], how=\"left\")\n",
    "\n",
    "features.drop(columns=[\"lap_number_y\"], inplace=True)\n",
    "features.rename(columns={\"lap_number_x\": \"lap_number\"}, inplace=True)\n",
    "\n",
    "table = tabulate(\n",
    "    features.head(), \n",
    "    headers='keys', \n",
    "    tablefmt='pretty', \n",
    "    showindex=False\n",
    ")\n",
    "print(table)"
   ]
  },
  {
   "cell_type": "markdown",
   "metadata": {},
   "source": [
    "### 3.2. Normalising Numerical Features\n",
    "\n",
    "Numerical features such as positions, points, grid positions, lap times, and durations are normalised to a range between 0 and 1. Time features are converted to seconds to maintain consistency."
   ]
  },
  {
   "cell_type": "code",
   "execution_count": 17,
   "metadata": {},
   "outputs": [
    {
     "name": "stdout",
     "output_type": "stream",
     "text": [
      "+--------+-------+--------------+------------+--------+----------------+------------------+------+--------------------+----------+-------------+-------------+--------------+------------+------------------+--------------------+--------------------+--------------------+-----------+----------------------+----------+----------+-----------+-------------+----------+----------------------+\n",
      "| season | round | car_number_x | position_x | points |   driver_id    | constructor_id_x | grid |        laps        |  status  |   time_x    | fastest_lap | car_number_y | position_y | constructor_id_y |      q1_time       |      q2_time       |      q3_time       | race_id_x |      lap_number      | position |  time_y  | race_id_y | stop_number |   time   |       duration       |\n",
      "+--------+-------+--------------+------------+--------+----------------+------------------+------+--------------------+----------+-------------+-------------+--------------+------------+------------------+--------------------+--------------------+--------------------+-----------+----------------------+----------+----------+-----------+-------------+----------+----------------------+\n",
      "|  2024  |   1   |      1       |     1      |  1.0   | max_verstappen |     red_bull     | 0.05 | 0.7307692307692307 | FINISHED | 1:31:44.742 |  1:32.608   |      1       |     1      |     red_bull     | 0.7644321800042454 | 0.7723564589166579 | 0.7767528960891908 |    1.0    | 0.01282051282051282  |   0.05   | 1:37.284 |    1.0    |     1.0     | 18:31:12 | 0.010469275325149444 |\n",
      "|  2024  |   1   |      1       |     1      |  1.0   | max_verstappen |     red_bull     | 0.05 | 0.7307692307692307 | FINISHED | 1:31:44.742 |  1:32.608   |      1       |     1      |     red_bull     | 0.7644321800042454 | 0.7723564589166579 | 0.7767528960891908 |    1.0    | 0.01282051282051282  |   0.05   | 1:37.284 |    1.0    |     2.0     | 19:03:29 | 0.010112140374502988 |\n",
      "|  2024  |   1   |      1       |     1      |  1.0   | max_verstappen |     red_bull     | 0.05 | 0.7307692307692307 | FINISHED | 1:31:44.742 |  1:32.608   |      1       |     1      |     red_bull     | 0.7644321800042454 | 0.7723564589166579 | 0.7767528960891908 |    1.0    | 0.02564102564102564  |   0.05   | 1:36.296 |    1.0    |     1.0     | 18:31:12 | 0.010469275325149444 |\n",
      "|  2024  |   1   |      1       |     1      |  1.0   | max_verstappen |     red_bull     | 0.05 | 0.7307692307692307 | FINISHED | 1:31:44.742 |  1:32.608   |      1       |     1      |     red_bull     | 0.7644321800042454 | 0.7723564589166579 | 0.7767528960891908 |    1.0    | 0.02564102564102564  |   0.05   | 1:36.296 |    1.0    |     2.0     | 19:03:29 | 0.010112140374502988 |\n",
      "|  2024  |   1   |      1       |     1      |  1.0   | max_verstappen |     red_bull     | 0.05 | 0.7307692307692307 | FINISHED | 1:31:44.742 |  1:32.608   |      1       |     1      |     red_bull     | 0.7644321800042454 | 0.7723564589166579 | 0.7767528960891908 |    1.0    | 0.038461538461538464 |   0.05   | 1:36.753 |    1.0    |     1.0     | 18:31:12 | 0.010469275325149444 |\n",
      "+--------+-------+--------------+------------+--------+----------------+------------------+------+--------------------+----------+-------------+-------------+--------------+------------+------------------+--------------------+--------------------+--------------------+-----------+----------------------+----------+----------+-----------+-------------+----------+----------------------+\n"
     ]
    }
   ],
   "source": [
    "for col in ['q1_time', 'q2_time', 'q3_time', 'duration']:\n",
    "    if col in features.columns:\n",
    "        features[col] = features[col].apply(time_to_seconds)\n",
    "\n",
    "features.fillna(0, inplace=True)\n",
    "\n",
    "numerical_columns = [\n",
    "    'position', 'points', 'grid', 'laps', 'q1_time', 'q2_time',\n",
    "    'q3_time', 'lap_number', 'duration'\n",
    "]\n",
    "\n",
    "scaler = MinMaxScaler()\n",
    "features[numerical_columns] = scaler.fit_transform(features[numerical_columns])\n",
    "\n",
    "table = tabulate(\n",
    "    features.head(), \n",
    "    headers='keys', \n",
    "    tablefmt='pretty', \n",
    "    showindex=False\n",
    ")\n",
    "print(table)"
   ]
  },
  {
   "cell_type": "markdown",
   "metadata": {},
   "source": [
    "### 3.3. Creating Time-Series Sequences\n",
    "\n",
    "A sliding window approach is used to generate fixed-length sequences of data for each driver. Each sequence corresponds to a driver’s historical data across races, and the target is their position in the subsequent race."
   ]
  },
  {
   "cell_type": "code",
   "execution_count": 7,
   "metadata": {},
   "outputs": [
    {
     "name": "stdout",
     "output_type": "stream",
     "text": [
      "torch.Size([46025, 12, 9]) torch.Size([46025])\n"
     ]
    }
   ],
   "source": [
    "sequence_length = 12\n",
    "\n",
    "X, y = [], []\n",
    "drivers = features['driver_id'].unique()\n",
    "\n",
    "for driver in drivers:\n",
    "    driver_data = features[features['driver_id'] == driver].sort_values(by=[\"round\"])\n",
    "    driver_data_seq = driver_data[numerical_columns].values\n",
    "\n",
    "    if len(driver_data_seq) < sequence_length + 1:\n",
    "        continue\n",
    "\n",
    "    for i in range(len(driver_data_seq) - sequence_length):\n",
    "        X.append(driver_data_seq[i:i + sequence_length])\n",
    "        y.append(driver_data_seq[i + sequence_length][0])\n",
    "\n",
    "X = torch.tensor(np.array(X), dtype=torch.float32)\n",
    "y = torch.tensor(y, dtype=torch.float32)\n",
    "\n",
    "print(X.shape, y.shape)"
   ]
  },
  {
   "cell_type": "markdown",
   "metadata": {},
   "source": [
    "## 4. **Model Training & Validation**"
   ]
  },
  {
   "cell_type": "markdown",
   "metadata": {},
   "source": [
    "### 4.1. Dataset Preparation\n",
    "\n",
    "The training and validation datasets are created by splitting the preprocessed sequences (`X` and `y`) into training and validation sets. These datasets are then wrapped into PyTorch `DataLoader` objects for efficient batch processing."
   ]
  },
  {
   "cell_type": "code",
   "execution_count": 8,
   "metadata": {},
   "outputs": [
    {
     "name": "stdout",
     "output_type": "stream",
     "text": [
      "Data Pre-Processing Complete!\n"
     ]
    }
   ],
   "source": [
    "os.makedirs(OUT_FOLDER, exist_ok=True)\n",
    "\n",
    "X_train, X_val, y_train, y_val = train_test_split(X, y, test_size=0.2, random_state=42)\n",
    "\n",
    "train_dataset = TensorDataset(X_train, y_train)\n",
    "val_dataset = TensorDataset(X_val, y_val)\n",
    "\n",
    "batch_size = 32\n",
    "train_loader = DataLoader(train_dataset, batch_size=batch_size, shuffle=True)\n",
    "val_loader = DataLoader(val_dataset, batch_size=batch_size, shuffle=False)\n",
    "\n",
    "print(\"Data Pre-Processing Complete!\")"
   ]
  },
  {
   "cell_type": "markdown",
   "metadata": {},
   "source": [
    "### 4.2. Model Definition\n",
    "\n",
    "A Long Short-Term Memory (LSTM) model is defined using PyTorch. The model is designed to predict the driver’s position in the next race based on their previous performance across multiple races."
   ]
  },
  {
   "cell_type": "code",
   "execution_count": 9,
   "metadata": {},
   "outputs": [
    {
     "name": "stdout",
     "output_type": "stream",
     "text": [
      "F1_LSTM(\n",
      "  (lstm): LSTM(9, 64, num_layers=2, batch_first=True)\n",
      "  (fc): Linear(in_features=64, out_features=1, bias=True)\n",
      ")\n"
     ]
    }
   ],
   "source": [
    "class F1_LSTM(nn.Module):\n",
    "    def __init__(self, input_size: int, hidden_size: int, num_layers: int, output_size: int) -> None:\n",
    "        super(F1_LSTM, self).__init__()\n",
    "        self.lstm = nn.LSTM(input_size, hidden_size, num_layers, batch_first=True)\n",
    "        self.fc = nn.Linear(hidden_size, output_size)\n",
    "\n",
    "    def forward(self, x: torch.Tensor) -> torch.Tensor:\n",
    "        lstm_out, _ = self.lstm(x)\n",
    "        last_out = lstm_out[:, -1, :]\n",
    "        return self.fc(last_out)\n",
    "\n",
    "\n",
    "input_size = len(numerical_columns)\n",
    "hidden_size = 64\n",
    "num_layers = 2\n",
    "output_size = 1\n",
    "\n",
    "model = F1_LSTM(input_size, hidden_size, num_layers, output_size)\n",
    "\n",
    "criterion = nn.MSELoss()\n",
    "optimizer = torch.optim.Adam(model.parameters(), lr=0.001)\n",
    "\n",
    "print(model)"
   ]
  },
  {
   "cell_type": "markdown",
   "metadata": {},
   "source": [
    "### 4.3. Model Training & Validation\n",
    "\n",
    "The model is trained over multiple epochs. During each epoch:\n",
    "- The model is fed batches of training data.\n",
    "- The Mean Squared Error (MSE) loss is computed and minimised using backpropagation.\n",
    "- Training progress and loss are logged.\n",
    "\n",
    "The model’s performance is THEN validated on the validation dataset. The validation loss is calculated, and predictions are logged for comparison with actual values."
   ]
  },
  {
   "cell_type": "code",
   "execution_count": 10,
   "metadata": {},
   "outputs": [
    {
     "name": "stdout",
     "output_type": "stream",
     "text": [
      "Training Model . . .\n",
      "- Epoch 01/25 | Training Loss: 9.9624 | Time: 3.27s\n",
      "- Epoch 02/25 | Training Loss: 5.5843 | Time: 3.13s\n",
      "- Epoch 03/25 | Training Loss: 5.5402 | Time: 3.13s\n",
      "- Epoch 04/25 | Training Loss: 5.4751 | Time: 3.13s\n",
      "- Epoch 05/25 | Training Loss: 5.5020 | Time: 3.16s\n",
      "- Epoch 06/25 | Training Loss: 5.4232 | Time: 3.17s\n",
      "- Epoch 07/25 | Training Loss: 5.4491 | Time: 3.14s\n",
      "- Epoch 08/25 | Training Loss: 5.4367 | Time: 3.15s\n",
      "- Epoch 09/25 | Training Loss: 5.3683 | Time: 3.15s\n",
      "- Epoch 10/25 | Training Loss: 5.3984 | Time: 3.16s\n",
      "- Epoch 11/25 | Training Loss: 5.3678 | Time: 3.17s\n",
      "- Epoch 12/25 | Training Loss: 5.3218 | Time: 3.17s\n",
      "- Epoch 13/25 | Training Loss: 5.3683 | Time: 3.18s\n",
      "- Epoch 14/25 | Training Loss: 5.3475 | Time: 3.42s\n",
      "- Epoch 15/25 | Training Loss: 5.3337 | Time: 3.21s\n",
      "- Epoch 16/25 | Training Loss: 5.2962 | Time: 3.21s\n",
      "- Epoch 17/25 | Training Loss: 5.3093 | Time: 3.22s\n",
      "- Epoch 18/25 | Training Loss: 5.2969 | Time: 3.22s\n",
      "- Epoch 19/25 | Training Loss: 5.2914 | Time: 3.26s\n",
      "- Epoch 20/25 | Training Loss: 5.2694 | Time: 3.24s\n",
      "- Epoch 21/25 | Training Loss: 5.2643 | Time: 3.23s\n",
      "- Epoch 22/25 | Training Loss: 5.2618 | Time: 3.26s\n",
      "- Epoch 23/25 | Training Loss: 5.2505 | Time: 3.25s\n",
      "- Epoch 24/25 | Training Loss: 5.2206 | Time: 3.38s\n",
      "- Epoch 25/25 | Training Loss: 5.2383 | Time: 3.26s\n",
      "Training Complete!\n",
      "\n",
      "Validation Loss: 1.2390\n"
     ]
    }
   ],
   "source": [
    "if os.path.exists(MODEL_PATH):\n",
    "    print(\"Importing Model . . .\")\n",
    "    model.load_state_dict(torch.load(MODEL_PATH, weights_only=True))\n",
    "    print(\"Model Successfully Imported!\")\n",
    "else:\n",
    "    print(\"Training Model . . .\")\n",
    "    epochs = 25\n",
    "    for epoch in range(epochs):\n",
    "        model.train()\n",
    "        epoch_loss = 0\n",
    "        epoch_start = time.time()\n",
    "\n",
    "        for batch_X, batch_y in train_loader:\n",
    "            optimizer.zero_grad()\n",
    "            outputs = model(batch_X)\n",
    "            loss = criterion(outputs.squeeze(), batch_y)\n",
    "            loss.backward()\n",
    "            optimizer.step()\n",
    "            epoch_loss += loss.item()\n",
    "\n",
    "        print(f\"- Epoch {epoch + 1:02d}/{epochs} | Training Loss: {epoch_loss:.4f} | Time: {time.time() - epoch_start:.2f}s\")\n",
    "\n",
    "    torch.save(model.state_dict(), MODEL_PATH)\n",
    "    print(\"Training Complete!\")\n",
    "\n",
    "model.eval()\n",
    "val_loss = 0\n",
    "predictions, actuals = [], []\n",
    "\n",
    "with torch.no_grad():\n",
    "    for batch_X, batch_y in val_loader:\n",
    "        outputs = model(batch_X)\n",
    "        loss = criterion(outputs.squeeze(), batch_y)\n",
    "        val_loss += loss.item()\n",
    "\n",
    "        predictions.extend(outputs.squeeze().tolist())\n",
    "        actuals.extend(batch_y.tolist())\n",
    "\n",
    "print(f\"\\nValidation Loss: {val_loss:.4f}\")"
   ]
  },
  {
   "cell_type": "markdown",
   "metadata": {},
   "source": [
    "## 5. **Prediction & Evaluation**"
   ]
  },
  {
   "cell_type": "markdown",
   "metadata": {},
   "source": [
    "### 5.1. Preparing Test Data\n",
    "\n",
    "The test data is processed in the same way as the training data. Key steps include:\n",
    "- Merging `results`, `qualifying`, `laps`, `pitstops`, and `circuits` datasets for the test set.\n",
    "- Normalising numerical features and converting time-based columns into seconds.\n",
    "- Generating sequences for each driver based on their historical race data."
   ]
  },
  {
   "cell_type": "code",
   "execution_count": 16,
   "metadata": {},
   "outputs": [
    {
     "name": "stdout",
     "output_type": "stream",
     "text": [
      "+--------+-------+--------------+------------+--------+----------------+------------------+------+------+----------+-------------+-------------+--------------+------------+------------------+----------+----------+----------+-----------+------------+----------+----------+-----------+-------------+----------+----------+\n",
      "| season | round | car_number_x | position_x | points |   driver_id    | constructor_id_x | grid | laps |  status  |   time_x    | fastest_lap | car_number_y | position_y | constructor_id_y | q1_time  | q2_time  | q3_time  | race_id_x | lap_number | position |  time_y  | race_id_y | stop_number |   time   | duration |\n",
      "+--------+-------+--------------+------------+--------+----------------+------------------+------+------+----------+-------------+-------------+--------------+------------+------------------+----------+----------+----------+-----------+------------+----------+----------+-----------+-------------+----------+----------+\n",
      "|  2024  |   1   |      1       |     1      |   26   | max_verstappen |     red_bull     |  1   |  57  | FINISHED | 1:31:44.742 |  1:32.608   |      1       |     1      |     red_bull     | 1:30.031 | 1:29.374 | 1:29.179 |    1.0    |    1.0     |   1.0    | 1:37.284 |    1.0    |     1.0     | 18:31:12 |  25.064  |\n",
      "|  2024  |   1   |      1       |     1      |   26   | max_verstappen |     red_bull     |  1   |  57  | FINISHED | 1:31:44.742 |  1:32.608   |      1       |     1      |     red_bull     | 1:30.031 | 1:29.374 | 1:29.179 |    1.0    |    1.0     |   1.0    | 1:37.284 |    1.0    |     2.0     | 19:03:29 |  24.209  |\n",
      "|  2024  |   1   |      1       |     1      |   26   | max_verstappen |     red_bull     |  1   |  57  | FINISHED | 1:31:44.742 |  1:32.608   |      1       |     1      |     red_bull     | 1:30.031 | 1:29.374 | 1:29.179 |    1.0    |    2.0     |   1.0    | 1:36.296 |    1.0    |     1.0     | 18:31:12 |  25.064  |\n",
      "|  2024  |   1   |      1       |     1      |   26   | max_verstappen |     red_bull     |  1   |  57  | FINISHED | 1:31:44.742 |  1:32.608   |      1       |     1      |     red_bull     | 1:30.031 | 1:29.374 | 1:29.179 |    1.0    |    2.0     |   1.0    | 1:36.296 |    1.0    |     2.0     | 19:03:29 |  24.209  |\n",
      "|  2024  |   1   |      1       |     1      |   26   | max_verstappen |     red_bull     |  1   |  57  | FINISHED | 1:31:44.742 |  1:32.608   |      1       |     1      |     red_bull     | 1:30.031 | 1:29.374 | 1:29.179 |    1.0    |    3.0     |   1.0    | 1:36.753 |    1.0    |     1.0     | 18:31:12 |  25.064  |\n",
      "+--------+-------+--------------+------------+--------+----------------+------------------+------+------+----------+-------------+-------------+--------------+------------+------------------+----------+----------+----------+-----------+------------+----------+----------+-----------+-------------+----------+----------+\n"
     ]
    }
   ],
   "source": [
    "latest_round = qualifying_train_df['round'].max()\n",
    "latest_qualifying_drivers = qualifying_train_df[qualifying_train_df['round'] == latest_round]['driver_id'].unique()\n",
    "\n",
    "test_features = results_test_df.merge(qualifying_train_df, on=[\"season\", \"round\", \"driver_id\"], how=\"left\")\n",
    "test_features = test_features.merge(laps_train_df, on=[\"season\", \"round\", \"driver_id\"], how=\"left\", suffixes=(\"\", \"_laps\"))\n",
    "test_features = test_features.merge(pitstops_train_df, on=[\"season\", \"round\", \"driver_id\"], how=\"left\", suffixes=(\"\", \"_pitstops\"))\n",
    "test_features = test_features.merge(circuits_train_df, on=[\"season\", \"round\"], how=\"left\")\n",
    "\n",
    "test_features = test_features[test_features['driver_id'].isin(latest_qualifying_drivers)]\n",
    "test_features.drop(columns=[\"lap_number_y\"], inplace=True, errors=\"ignore\")\n",
    "test_features.rename(columns={\"lap_number_x\": \"lap_number\"}, inplace=True)\n",
    "\n",
    "for col in ['q1_time', 'q2_time', 'q3_time', 'duration']:\n",
    "    if col in test_features.columns:\n",
    "        test_features[col] = test_features[col].apply(time_to_seconds)\n",
    "\n",
    "test_features.fillna(0, inplace=True)\n",
    "\n",
    "numerical_columns = [col for col in numerical_columns if col in test_features.columns]\n",
    "test_features[numerical_columns] = scaler.transform(test_features[numerical_columns])\n",
    "\n",
    "table = tabulate(\n",
    "    features.head(), \n",
    "    headers='keys', \n",
    "    tablefmt='pretty', \n",
    "    showindex=False\n",
    ")\n",
    "print(table)"
   ]
  },
  {
   "cell_type": "markdown",
   "metadata": {},
   "source": [
    "### 5.2. Generating Predictions\n",
    "\n",
    "The model is used to predict race standings for the final race of the 2024 season. Predictions are generated for each driver from the qualifying session, and these are compared against actual standings for evaluation."
   ]
  },
  {
   "cell_type": "code",
   "execution_count": 12,
   "metadata": {},
   "outputs": [
    {
     "name": "stdout",
     "output_type": "stream",
     "text": [
      "torch.Size([20, 12, 9]) torch.Size([20]) 20 20\n"
     ]
    }
   ],
   "source": [
    "test_X, test_y, tested_drivers = [], [], []\n",
    "for driver in test_features['driver_id'].unique():\n",
    "    driver_data = test_features[test_features['driver_id'] == driver].sort_values(by=[\"round\"])\n",
    "    driver_data_seq = driver_data[numerical_columns].values\n",
    "\n",
    "    if len(driver_data_seq) < sequence_length + 1:\n",
    "        padding = np.zeros((sequence_length - len(driver_data_seq), len(numerical_columns)))\n",
    "        driver_data_seq = np.vstack((padding, driver_data_seq))\n",
    "\n",
    "    test_X.append(driver_data_seq[-sequence_length:])\n",
    "    test_y.append(driver_data.iloc[-1]['position_x'])\n",
    "    tested_drivers.append(driver)\n",
    "\n",
    "test_X = torch.tensor(np.array(test_X), dtype=torch.float32)\n",
    "test_y = torch.tensor(test_y, dtype=torch.int32)\n",
    "\n",
    "model.eval()\n",
    "test_predictions = []\n",
    "\n",
    "with torch.no_grad():\n",
    "    outputs = model(test_X)\n",
    "    test_predictions = outputs.squeeze().tolist()\n",
    "\n",
    "min_position = results_train_df['position'].min()\n",
    "max_position = results_train_df['position'].max()\n",
    "test_predictions = [pred * (max_position - min_position) + min_position for pred in test_predictions]\n",
    "\n",
    "print(test_X.shape, test_y.shape, len(tested_drivers), len(test_predictions))"
   ]
  },
  {
   "cell_type": "markdown",
   "metadata": {},
   "source": [
    "### 5.3. Displaying Results\n",
    "\n",
    "The predictions are displayed alongside the actual standings in a tabulated format. This allows for easy comparison and assessment of the model’s performance."
   ]
  },
  {
   "cell_type": "code",
   "execution_count": 13,
   "metadata": {},
   "outputs": [
    {
     "name": "stdout",
     "output_type": "stream",
     "text": [
      "2024 Abu Dhabi Grand Prix (Round 24)\n",
      "╒═══════════════╤══════════════════╤═══════════════════╤══════════════════════╕\n",
      "│  Driver Code  │   Driver Name    │  Actual Position  │  Predicted Position  │\n",
      "╞═══════════════╪══════════════════╪═══════════════════╪══════════════════════╡\n",
      "│      NOR      │   Lando Norris   │         1         │          2           │\n",
      "├───────────────┼──────────────────┼───────────────────┼──────────────────────┤\n",
      "│      SAI      │   Carlos Sainz   │         2         │          3           │\n",
      "├───────────────┼──────────────────┼───────────────────┼──────────────────────┤\n",
      "│      LEC      │ Charles Leclerc  │         3         │          5           │\n",
      "├───────────────┼──────────────────┼───────────────────┼──────────────────────┤\n",
      "│      HAM      │  Lewis Hamilton  │         4         │          6           │\n",
      "├───────────────┼──────────────────┼───────────────────┼──────────────────────┤\n",
      "│      RUS      │  George Russell  │         5         │          5           │\n",
      "├───────────────┼──────────────────┼───────────────────┼──────────────────────┤\n",
      "│      VER      │  Max Verstappen  │         6         │          6           │\n",
      "├───────────────┼──────────────────┼───────────────────┼──────────────────────┤\n",
      "│      GAS      │   Pierre Gasly   │         7         │          8           │\n",
      "├───────────────┼──────────────────┼───────────────────┼──────────────────────┤\n",
      "│      HUL      │ Nico Hülkenberg  │         8         │          10          │\n",
      "├───────────────┼──────────────────┼───────────────────┼──────────────────────┤\n",
      "│      ALO      │ Fernando Alonso  │         9         │          11          │\n",
      "├───────────────┼──────────────────┼───────────────────┼──────────────────────┤\n",
      "│      PIA      │  Oscar Piastri   │        10         │          12          │\n",
      "├───────────────┼──────────────────┼───────────────────┼──────────────────────┤\n",
      "│      ALB      │ Alexander Albon  │        11         │          13          │\n",
      "├───────────────┼──────────────────┼───────────────────┼──────────────────────┤\n",
      "│      TSU      │   Yuki Tsunoda   │        12         │          14          │\n",
      "├───────────────┼──────────────────┼───────────────────┼──────────────────────┤\n",
      "│      ZHO      │   Guanyu Zhou    │        13         │          16          │\n",
      "├───────────────┼──────────────────┼───────────────────┼──────────────────────┤\n",
      "│      STR      │   Lance Stroll   │        14         │          13          │\n",
      "├───────────────┼──────────────────┼───────────────────┼──────────────────────┤\n",
      "│      DOO      │   Jack Doohan    │        15         │          16          │\n",
      "├───────────────┼──────────────────┼───────────────────┼──────────────────────┤\n",
      "│      MAG      │ Kevin Magnussen  │        16         │          16          │\n",
      "├───────────────┼──────────────────┼───────────────────┼──────────────────────┤\n",
      "│      LAW      │   Liam Lawson    │        17         │          13          │\n",
      "├───────────────┼──────────────────┼───────────────────┼──────────────────────┤\n",
      "│      BOT      │ Valtteri Bottas  │        18         │          17          │\n",
      "├───────────────┼──────────────────┼───────────────────┼──────────────────────┤\n",
      "│      COL      │ Franco Colapinto │        19         │          19          │\n",
      "├───────────────┼──────────────────┼───────────────────┼──────────────────────┤\n",
      "│      PER      │   Sergio Pérez   │        20         │          5           │\n",
      "╘═══════════════╧══════════════════╧═══════════════════╧══════════════════════╛\n"
     ]
    }
   ],
   "source": [
    "race_name = test_features['race_name'].iloc[0]\n",
    "season = test_features['season'].iloc[0]\n",
    "round_number = test_features['round'].iloc[0]\n",
    "\n",
    "display_data = []\n",
    "for i, driver_id in enumerate(test_features['driver_id'].unique()):\n",
    "    driver_info = drivers_train_df[drivers_train_df['driver_id'] == driver_id]\n",
    "    driver_code = driver_info['code'].values[0] if not driver_info.empty else \"N/A\"\n",
    "    driver_name = f\"{driver_info['given_name'].values[0]} {driver_info['family_name'].values[0]}\" if not driver_info.empty else \"N/A\"\n",
    "\n",
    "    actual = int(test_y[i].item())\n",
    "    predicted = round(test_predictions[i])\n",
    "\n",
    "    display_data.append([driver_code, driver_name, actual, predicted])\n",
    "\n",
    "header = f\"{season} {race_name} (Round {round_number})\"\n",
    "table = tabulate(\n",
    "    display_data,\n",
    "    headers=[\"Driver Code\", \"Driver Name\", \"Actual Position\", \"Predicted Position\"],\n",
    "    tablefmt=\"fancy_grid\",\n",
    "    numalign=\"center\",\n",
    "    stralign=\"center\"\n",
    ")\n",
    "\n",
    "print(header)\n",
    "print(table)"
   ]
  },
  {
   "cell_type": "markdown",
   "metadata": {},
   "source": [
    "## 6. **Conclusion**"
   ]
  },
  {
   "cell_type": "markdown",
   "metadata": {},
   "source": [
    "### 6.1. Summary of Findings\n",
    "\n",
    "This prototype successfully demonstrated the use of a Long Short-Term Memory (LSTM) model to predict Formula 1 race standings using sequential data from the 2024 season. Key findings include:\n",
    "- **Model Performance**: The LSTM model exhibited reasonable predictive accuracy on the test dataset, effectively learning patterns from the training data. Validation losses indicated that the model generalised well, albeit with some limitations in precision for edge cases.\n",
    "\n",
    "- **Data Integration**: Integrating multiple datasets, including laps, pitstops, qualifying, and race results, was critical for meaningful predictions. However, additional features like tyre strategies and weather data were identified as potential enhancements.\n",
    "\n",
    "- **Insights for Real-Time Applications**: The prototype established a workflow for data fetching, preprocessing, and modelling, forming the backbone of future real-time prediction systems."
   ]
  },
  {
   "cell_type": "markdown",
   "metadata": {},
   "source": [
    "### 6.2. Limitations\n",
    "\n",
    "While the prototype achieved its objectives, it faced several limitations:\n",
    "- **Limited Dataset**: The model relied solely on the 2024 season's data, restricting its exposure to diverse race scenarios and historical patterns.\n",
    "\n",
    "- **Feature Constraints**: Important real-time features, such as tyre data, weather conditions, and live telemetry, were not included, which could have improved prediction accuracy.\n",
    "\n",
    "- **Simplistic Model Architecture**: The LSTM model used a basic configuration with minimal hyperparameter tuning, leaving room for architectural improvements.\n",
    "\n",
    "- **Evaluation Scope**: Predictions were limited to the final race of the season, providing a narrow view of the model's capabilities across diverse race contexts."
   ]
  },
  {
   "cell_type": "markdown",
   "metadata": {},
   "source": [
    "### 6.3. Next Steps\n",
    "\n",
    "Building on the insights from this prototype, the following steps are proposed to advance the project:\n",
    "1. **Data Expansion**: Incorporate additional data sources such as tyre usage, weather conditions, and live race telemetry to enrich the feature set.\n",
    "\n",
    "2. **Model Enhancement**: Experiment with advanced architectures, such as attention mechanisms or ensemble models, to improve accuracy and robustness.\n",
    "\n",
    "3. **Real-Time Integration**: Utilise APIs for processing live data streams to enable real-time race predictions.\n",
    "\n",
    "4. **Web-Application Development**: Build a front-end interface for visualising predictions, insights, and analysis in an intuitive and interactive format.\n",
    "5. **Comprehensive Testing**: Evaluate the system across multiple seasons and scenarios to validate its reliability and scalability.\n",
    "\n",
    "This prototype has laid a strong foundation for the development of a dynamic and real-time Formula 1 race prediction system. With further refinements, the project aims to deliver an indispensable tool for enthusiasts, analysts, and teams alike."
   ]
  }
 ],
 "metadata": {
  "kernelspec": {
   "display_name": ".venv",
   "language": "python",
   "name": "python3"
  },
  "language_info": {
   "codemirror_mode": {
    "name": "ipython",
    "version": 3
   },
   "file_extension": ".py",
   "mimetype": "text/x-python",
   "name": "python",
   "nbconvert_exporter": "python",
   "pygments_lexer": "ipython3",
   "version": "3.12.8"
  }
 },
 "nbformat": 4,
 "nbformat_minor": 2
}
